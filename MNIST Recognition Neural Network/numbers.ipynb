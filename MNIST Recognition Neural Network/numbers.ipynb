{
 "cells": [
  {
   "cell_type": "code",
   "execution_count": 8,
   "id": "3a95ae85",
   "metadata": {
    "scrolled": true
   },
   "outputs": [],
   "source": [
    "from NeuralNetwork import *\n",
    "import warnings\n",
    "import matplotlib.pyplot as plt\n",
    "%matplotlib inline\n",
    "warnings.filterwarnings(\"ignore\", category=numpy.VisibleDeprecationWarning)"
   ]
  },
  {
   "cell_type": "code",
   "execution_count": 2,
   "id": "fb17804c",
   "metadata": {
    "scrolled": false
   },
   "outputs": [],
   "source": [
    "# Создаем экземпляр нейронной сети\n",
    "layers = 3\n",
    "nodes = (784, 800, 10)\n",
    "learning_rate = 0.3\n",
    "\n",
    "n = NeuralNetwork(layers, nodes, learning_rate)\n",
    "# n.import_tables()"
   ]
  },
  {
   "cell_type": "code",
   "execution_count": 4,
   "id": "879b37a4",
   "metadata": {
    "scrolled": true
   },
   "outputs": [],
   "source": [
    "# Загружаем тренировочные данные\n",
    "training_data_file = open(\"mnist_dataset/mnist_train.csv\", \"r\")\n",
    "training_data_list = training_data_file.readlines()\n",
    "training_data_file.close()\n",
    "\n",
    "# for record in training_data_list:\n",
    "#     values = record.split(\",\")\n",
    "#     inputs = (numpy.asfarray(values[1:]) / 255.0 * 0.99) + 0.01\n",
    "#     targets = numpy.zeros(nodes[-1]) + 0.01\n",
    "#     targets[int(values[0])] = 0.99\n",
    "#     n.train(inputs, targets)"
   ]
  },
  {
   "cell_type": "code",
   "execution_count": 44,
   "id": "89fc3b88",
   "metadata": {},
   "outputs": [
    {
     "data": {
      "image/png": "[encoded data removed]",
      "text/plain": [
       "<Figure size 576x576 with 4 Axes>"
      ]
     },
     "metadata": {
      "needs_background": "light"
     },
     "output_type": "display_data"
    }
   ],
   "source": [
    "from PIL import Image\n",
    "from random import sample\n",
    "\n",
    "rows = 2  # Количество строк в таблице\n",
    "columns = 2  # Количество столбцов в таблице\n",
    "\n",
    "numbers = sample(range(len(training_data_list)), rows * columns)\n",
    "\n",
    "fig = plt.figure(figsize=(8, 8))\n",
    "\n",
    "for i in range(len(numbers)):\n",
    "    fig.add_subplot(rows, columns, i + 1)\n",
    "    values = training_data_list[numbers[i]].split(\",\")\n",
    "    inputs = (numpy.asfarray(values[1:]) / 255.0 * 0.99) + 0.01\n",
    "    inputs = inputs.reshape((28, 28))\n",
    "    plt.title(f\"Цифра: {int(values[0])}\")\n",
    "    plt.axis('off')\n",
    "    plt.imshow(inputs, interpolation='nearest', cmap=\"gray_r\")\n",
    "\n",
    "plt.show()"
   ]
  },
  {
   "cell_type": "code",
   "execution_count": 7,
   "id": "b36dd4f2",
   "metadata": {
    "scrolled": true
   },
   "outputs": [
    {
     "name": "stdout",
     "output_type": "stream",
     "text": [
      "Эффективность сети: 0.9596\n"
     ]
    }
   ],
   "source": [
    "score = 0\n",
    "count = 0\n",
    "test_data_file = open(\"mnist_dataset/mnist_test.csv\", \"r\")\n",
    "test_data_list = test_data_file.readlines()\n",
    "test_data_file.close()\n",
    "\n",
    "for i in test_data_list:\n",
    "    count += 1\n",
    "    values = i.split(\",\")\n",
    "    correct_number = int(values[0])\n",
    "\n",
    "    outputs = n.query((numpy.asfarray(values[1:]) / 255.0 * 0.99) + 0.01)\n",
    "    network_answer = numpy.argmax(outputs)\n",
    "    \n",
    "    if (correct_number == network_answer):\n",
    "        score += 1\n",
    "    \n",
    "print(\"Эффективность сети:\", score / count)"
   ]
  },
  {
   "cell_type": "code",
   "execution_count": 5,
   "id": "c970f5b1",
   "metadata": {},
   "outputs": [],
   "source": [
    "# n.export_tables()"
   ]
  }
 ],
 "metadata": {
  "kernelspec": {
   "display_name": "Python 3 (ipykernel)",
   "language": "python",
   "name": "python3"
  },
  "language_info": {
   "codemirror_mode": {
    "name": "ipython",
    "version": 3
   },
   "file_extension": ".py",
   "mimetype": "text/x-python",
   "name": "python",
   "nbconvert_exporter": "python",
   "pygments_lexer": "ipython3",
   "version": "3.10.0"
  }
 },
 "nbformat": 4,
 "nbformat_minor": 5
}
